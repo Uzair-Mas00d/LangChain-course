{
 "cells": [
  {
   "cell_type": "code",
   "execution_count": 2,
   "metadata": {},
   "outputs": [
    {
     "name": "stderr",
     "output_type": "stream",
     "text": [
      "e:\\LangChainProject\\venv\\Lib\\site-packages\\tqdm\\auto.py:21: TqdmWarning: IProgress not found. Please update jupyter and ipywidgets. See https://ipywidgets.readthedocs.io/en/stable/user_install.html\n",
      "  from .autonotebook import tqdm as notebook_tqdm\n"
     ]
    }
   ],
   "source": [
    "from langchain.vectorstores.cassandra import Cassandra\n",
    "from langchain.indexes.vectorstore import VectorStoreIndexWrapper\n",
    "from langchain.llms import OpenAI\n",
    "from langchain.embeddings import OpenAIEmbeddings\n",
    "from datasets import load_dataset\n",
    "import cassio\n",
    "from PyPDF2 import PdfReader"
   ]
  },
  {
   "cell_type": "code",
   "execution_count": 3,
   "metadata": {},
   "outputs": [],
   "source": [
    "import os\n",
    "\n",
    "ASTRA_DB_APPLICATION_TOKEN = ''\n",
    "ASTRA_DB_ID = ''\n",
    "os.environ['OpenAI_API_KEY'] =  ''"
   ]
  },
  {
   "cell_type": "code",
   "execution_count": 4,
   "metadata": {},
   "outputs": [],
   "source": [
    "pdfreader = PdfReader('./Btc.pdf')"
   ]
  },
  {
   "cell_type": "code",
   "execution_count": 5,
   "metadata": {},
   "outputs": [],
   "source": [
    "from typing_extensions import Concatenate\n",
    "\n",
    "raw_text =\"\"\n",
    "for i, page in enumerate(pdfreader.pages):\n",
    "    content = page.extract_text()\n",
    "    if content:\n",
    "        raw_text += content"
   ]
  },
  {
   "cell_type": "code",
   "execution_count": 6,
   "metadata": {},
   "outputs": [],
   "source": [
    "cassio.init(token=ASTRA_DB_APPLICATION_TOKEN,database_id=ASTRA_DB_ID)"
   ]
  },
  {
   "cell_type": "code",
   "execution_count": 7,
   "metadata": {},
   "outputs": [
    {
     "name": "stderr",
     "output_type": "stream",
     "text": [
      "e:\\LangChainProject\\venv\\Lib\\site-packages\\langchain_core\\_api\\deprecation.py:117: LangChainDeprecationWarning: The class `langchain_community.llms.openai.OpenAI` was deprecated in langchain-community 0.0.10 and will be removed in 0.2.0. An updated version of the class exists in the langchain-openai package and should be used instead. To use it run `pip install -U langchain-openai` and import as `from langchain_openai import OpenAI`.\n",
      "  warn_deprecated(\n",
      "e:\\LangChainProject\\venv\\Lib\\site-packages\\langchain_core\\_api\\deprecation.py:117: LangChainDeprecationWarning: The class `langchain_community.embeddings.openai.OpenAIEmbeddings` was deprecated in langchain-community 0.1.0 and will be removed in 0.2.0. An updated version of the class exists in the langchain-openai package and should be used instead. To use it run `pip install -U langchain-openai` and import as `from langchain_openai import OpenAIEmbeddings`.\n",
      "  warn_deprecated(\n"
     ]
    }
   ],
   "source": [
    "llm = OpenAI()\n",
    "embedding = OpenAIEmbeddings()"
   ]
  },
  {
   "cell_type": "code",
   "execution_count": 8,
   "metadata": {},
   "outputs": [],
   "source": [
    "astra_vector_store = Cassandra(\n",
    "    embedding=embedding,\n",
    "    table_name='demo',\n",
    "    session=None,\n",
    "    keyspace=None\n",
    ")"
   ]
  },
  {
   "cell_type": "code",
   "execution_count": 9,
   "metadata": {},
   "outputs": [],
   "source": [
    "from langchain.text_splitter import CharacterTextSplitter\n",
    "\n",
    "text_splitter = CharacterTextSplitter(\n",
    "    separator=\"\\n\",\n",
    "    chunk_size=800,\n",
    "    chunk_overlap=200,\n",
    "    length_function=len,\n",
    ")\n",
    "\n",
    "texts = text_splitter.split_text(raw_text)"
   ]
  },
  {
   "cell_type": "code",
   "execution_count": 10,
   "metadata": {},
   "outputs": [
    {
     "data": {
      "text/plain": [
       "['econstor\\nMake Your Publications Visible.A Service of\\nzbwLeibniz-Informationszentrum\\nWirtschaft\\nLeibniz Information Centre\\nfor Economics\\nGbadebo, Adedeji Daniel; Adekunle, Ahmed Oluwatobi; Adedokun, Wole;\\nLukman, Adebayo-Oke Abdulrauf; Akande, Joseph\\nArticle\\nBTC price volatility: Fundamentals versus information\\nCogent Business & Management\\nProvided in Cooperation with:\\nTaylor & Francis Group\\nSuggested Citation: Gbadebo, Adedeji Daniel; Adekunle, Ahmed Oluwatobi; Adedokun, Wole;\\nLukman, Adebayo-Oke Abdulrauf; Akande, Joseph (2021) : BTC price volatility: Fundamentals\\nversus information, Cogent Business & Management, ISSN 2331-1975, Taylor & Francis,\\nAbingdon, Vol. 8, Iss. 1, pp. 1-21,\\nhttps://doi.org/10.1080/23311975.2021.1984624\\nThis Version is available at:',\n",
       " 'versus information, Cogent Business & Management, ISSN 2331-1975, Taylor & Francis,\\nAbingdon, Vol. 8, Iss. 1, pp. 1-21,\\nhttps://doi.org/10.1080/23311975.2021.1984624\\nThis Version is available at:\\nhttp://hdl.handle.net/10419/245139\\nStandard-Nutzungsbedingungen:\\nDie Dokumente auf EconStor dürfen zu eigenen wissenschaftlichen\\nZwecken und zum Privatgebrauch gespeichert und kopiert werden.\\nSie dürfen die Dokumente nicht für öffentliche oder kommerzielle\\nZwecke vervielfältigen, öffentlich ausstellen, öffentlich zugänglich\\nmachen, vertreiben oder anderweitig nutzen.\\nSofern die Verfasser die Dokumente unter Open-Content-Lizenzen\\n(insbesondere CC-Lizenzen) zur Verfügung gestellt haben sollten,\\ngelten abweichend von diesen Nutzungsbedingungen die in der dort',\n",
       " 'Sofern die Verfasser die Dokumente unter Open-Content-Lizenzen\\n(insbesondere CC-Lizenzen) zur Verfügung gestellt haben sollten,\\ngelten abweichend von diesen Nutzungsbedingungen die in der dort\\ngenannten Lizenz gewährten Nutzungsrechte.Terms of use:\\nDocuments in EconStor may be saved and copied for your\\npersonal and scholarly purposes.\\nYou are not to copy documents for public or commercial\\npurposes, to exhibit the documents publicly, to make them\\npublicly available on the internet, or to distribute or otherwise\\nuse the documents in public.\\nIf the documents have been made available under an Open\\nContent Licence (especially Creative Commons Licences), you\\nmay exercise further usage rights as specified in the indicated\\nlicence.\\n  https://creativecommons.org/licenses/by/4.0/',\n",
       " 'Content Licence (especially Creative Commons Licences), you\\nmay exercise further usage rights as specified in the indicated\\nlicence.\\n  https://creativecommons.org/licenses/by/4.0/\\nwww.econstor.euFull Terms & Conditions of access and use can be found at\\nhttps://www.tandfonline.com/action/journalInformation?journalCode=oabm20\\nCogent Business & Management\\nISSN: (Print) (Online) Journal homepage: https://www.tandfonline.com/loi/oabm20\\nBTC price volatility: Fundamentals versus\\ninformation\\nAdedeji Daniel Gbadebo, Ahmed Oluwatobi Adekunle, Wole Adedokun,\\nAdebayo-Oke Abdulrauf Lukman & Joseph Akande\\nTo cite this article:  Adedeji Daniel Gbadebo, Ahmed Oluwatobi Adekunle, Wole\\nAdedokun, Adebayo-Oke Abdulrauf Lukman & Joseph Akande (2021) BTC price volatility:',\n",
       " 'To cite this article:  Adedeji Daniel Gbadebo, Ahmed Oluwatobi Adekunle, Wole\\nAdedokun, Adebayo-Oke Abdulrauf Lukman & Joseph Akande (2021) BTC price volatility:\\nFundamentals versus information, Cogent Business & Management, 8:1, 1984624, DOI:\\n10.1080/23311975.2021.1984624\\nTo link to this article:  https://doi.org/10.1080/23311975.2021.1984624\\n© 2021 The Author(s). This open access\\narticle is distributed under a Creative\\nCommons Attribution (CC-BY) 4.0 license.\\nPublished online: 26 Oct 2021.\\nSubmit your article to this journal \\nArticle views: 124\\nView related articles \\nView Crossmark data\\nBANKING & FINANCE | RESEARCH ARTICLE\\nBTC price volatility: Fundamentals versus \\ninformation\\nAdedeji Daniel Gbadebo1, Ahmed Oluwatobi Adekunle2*, Wole Adedokun4, Adebayo-',\n",
       " 'View Crossmark data\\nBANKING & FINANCE | RESEARCH ARTICLE\\nBTC price volatility: Fundamentals versus \\ninformation\\nAdedeji Daniel Gbadebo1, Ahmed Oluwatobi Adekunle2*, Wole Adedokun4, Adebayo- \\nOke Abdulrauf Lukman5Joseph Akande3 \\nAbstract:  This paper offers a plausible response to “what explains the sporadic \\nvolatility in the price of Bitcoin?” We hypothesized that market “fundamentals” and \\n“information demands” are key drivers of Bitcoin’s unpredictable price fluctuation. \\nWe adopt the transfer-function [Autoregressive Distributed Lag, ARDL] model and \\nits Bounds testing approach to verify how the volatility of the price of Bitcoin \\nresponds to its transaction volume, cryptocurrency market capitalisation, world',\n",
       " 'its Bounds testing approach to verify how the volatility of the price of Bitcoin \\nresponds to its transaction volume, cryptocurrency market capitalisation, world \\nmarket equity index and Google search. We found the existence of long-run coin -\\ntegration relation and observed that all the variables except the equity index \\npositively explain the volatility of Bitcoin price. The result established evidence that \\nmarket fundamentals drive erratic swing in Bitcoin price than information.\\nABOUT THE AUTHOR \\nAdedeji has taught Econometrics, \\nComputational Economics, Economic Theory and \\nInternational Finance. He is an economist and \\na finance expert. His recent focus is on Financial \\nForecasting, Blockchain, Neural Networks and \\nMachine Learning. \\nAhmed (PhD, Accounting and Finance; ACMA,',\n",
       " 'a finance expert. His recent focus is on Financial \\nForecasting, Blockchain, Neural Networks and \\nMachine Learning. \\nAhmed (PhD, Accounting and Finance; ACMA, \\nUK; CGMA) is a lecturer in Accounting and \\nFinance Department with Kwara State \\nUniversity, Nigeria. He has taught International \\nFinance, Financial Management, Public Finance \\nand Financial Econometrics for eight years. \\nAkande (PhD, Finance; ACCA) is a Associate \\nProfessor in Accounting and Finance with Walter \\nSisulu University, South Africa. He is a Financial \\nModelling and Valuation analyst. He is \\na chartered accountant (ACCA). He worked on \\nprojects among which include the UN-Namibia \\nsocio-economic impact of COVID-19. He is \\na reviewer for several journals. \\nWole is a Research Assistance in Accounting and',\n",
       " 'projects among which include the UN-Namibia \\nsocio-economic impact of COVID-19. He is \\na reviewer for several journals. \\nWole is a Research Assistance in Accounting and \\nFinance with Cyprus International University, \\nTurkey. He holds a PhD in Accounting and \\nFinance. He has taught Development Finance, \\nCost Accounting and Financial Management and \\nhas published in international journals. \\nLukman (PhD, Finance; ACA) is a lecturer \\nin Accounting and Finance Department with \\nKwara State University, Nigeria. He has taught \\nQuantitative techniques, Financial Management, \\nInternational Finance and Financial \\nEconometrics over many years. PUBLIC INTEREST STATEMENT \\nIn recent times, finance experts, researchers and \\nregulators are concerned about the cryptocur -',\n",
       " 'International Finance and Financial \\nEconometrics over many years. PUBLIC INTEREST STATEMENT \\nIn recent times, finance experts, researchers and \\nregulators are concerned about the cryptocur -\\nrency “Bitcoin” and the incessant erratic swings in \\nits price. This paper offers an explanation to what \\nmay cause the sporadic volatility in the price of \\nBitcoin. Unlike typical financial assets, such as \\ncommodities, bonds, stocks, for which price \\nswings are largely determined by fundamentals \\n(of demand and supply), the volatility of Bitcoin \\nprice is affected by information search on social \\nnetwork. Hence, we employed the ARDL model \\nand its Bounds testing approach to confirm how \\nthe volatility of Bitcoin price response to funda -\\nmentals as Bitcoin transaction volume and price,',\n",
       " 'network. Hence, we employed the ARDL model \\nand its Bounds testing approach to confirm how \\nthe volatility of Bitcoin price response to funda -\\nmentals as Bitcoin transaction volume and price, \\nas well as other factors as world market equity \\nindex and the information (Google) search. We \\nfound strong evidence that fundamentals drive \\nerratic swing in Bitcoin price than information.\\nGbadebo et al., Cogent Business & Management (2021), 8: 1984624\\nhttps://doi.org/10.1080/23311975.2021.1984624\\nPage 1 of 21Received: 08 December 2020 \\nAccepted: 16 September 2021\\n*Corresponding author: Ahmed \\nOluwatobi Adekunle, Department of \\nAccounting and Finance, Kwara State \\nUniversity, Ilorin, Nigeria \\nE-mail: tobiahamed@gmail.com\\nAdditional information is available at \\nthe end of the article',\n",
       " 'Oluwatobi Adekunle, Department of \\nAccounting and Finance, Kwara State \\nUniversity, Ilorin, Nigeria \\nE-mail: tobiahamed@gmail.com\\nAdditional information is available at \\nthe end of the article\\n© 2021 The Author(s). This open access article is distributed under a Creative Commons \\nAttribution (CC-BY) 4.0 license.Subjects: Economics; Corporate Finance; Investment & Securities \\nKeywords: Bitcoin price volatility; Bitcoin market fundamentals; information demand; \\nARDL\\nJel classification: C10; G15; G17\\n1.Introduction\\nBTC, a portmanteau for “Bitcoin”, is a burgeoning technological innovation and the first decen -\\ntralized finance (DeFi) digital money invented by a person (or group) under the pseudonym Satoshi.',\n",
       " 'BTC, a portmanteau for “Bitcoin”, is a burgeoning technological innovation and the first decen -\\ntralized finance (DeFi) digital money invented by a person (or group) under the pseudonym Satoshi. \\nThe cryptocurrency relies on peer-to-peer (P2P) transactions, anonymity, and transparency, as well \\nas employs interface integrated with social networks and hardware tokens. Like traditional money, \\nBTC serves as medium of payments, exchange for alternative cryptocurrencies or fiat currencies \\nbut remained uncoordinated by monetary policy of the Reserve Banks (Aalborg et al., 2018 ; \\nMikhaylov, 2020 ).\\nBTC is likewise considered as an investment product. Kurka (2019 ) argued that the turbulence in \\nstock and commodity markets motivates investors to seek alternative investment. The Bitcoin’s lack',\n",
       " 'BTC is likewise considered as an investment product. Kurka (2019 ) argued that the turbulence in \\nstock and commodity markets motivates investors to seek alternative investment. The Bitcoin’s lack \\nof correlation with traditional assets makes it an attractive option in its fast developing market. With \\nrecent formal launch of Bitcoin standardize futures in regulated exchanges, some institutional \\ninvestors and experts now deliberate BTC as a safe haven or a hedge option (Hughes et al., 2019 ; \\nKharpal, 2020 ). The huge investment in Bitcoin drives significant increases in the number of estab -\\nlished decentralized exchange (DEX) that serve as platforms for trading the coins (Kristoufek, 2018 ).',\n",
       " 'lished decentralized exchange (DEX) that serve as platforms for trading the coins (Kristoufek, 2018 ). \\nThese platforms and market are largely dominated by technology enthusiasts, liberalist traders (Silva \\net al., 2019 ), and, fraudsters taking advantages of unsophisticated P2P participants.\\nThe BTC transactions are managed on an open-source system “Blockchain” which applies sophis -\\nticated protocol to generate, record, and verify transactions (Smales, 2019 ). There are 21 million BTCs \\nassumed to be configured in its algorithm’s reserve and an estimated 84% have been mined. The \\nsupply is projected to have lost about 20% tokens, which unlike fiat money cannot be reprinted or \\nreturn to circulation (Nathan, 2019 ). The limited supply, irrecoverable loss and increase in transaction',\n",
       " 'return to circulation (Nathan, 2019 ). The limited supply, irrecoverable loss and increase in transaction \\nhave implications for its swings. Since inception the price of BTC has swing with unpredictable ups and \\ndowns movements meted with strong resistance, supports, breakthrough, jumps, consolidations, and \\ncorrections in different price episodes. The price of bitcoin increase by over 2000%, and reportedly \\npeaked around $19,400 in December, 2017. By July 2018, it has declined to $12,500 and stood at \\n$7200 in December 2019. The volatility continues and the price has experience massive run-up, \\nreversal and consolidates around $40,000 in July 2021.\\nThe extreme volatility of BTC price has attracted much growing interests among experts.',\n",
       " 'reversal and consolidates around $40,000 in July 2021.\\nThe extreme volatility of BTC price has attracted much growing interests among experts. \\nEconomists suppose that Bitcoin and its fundamentals differ from those of convention assets as \\nstocks, bonds or foreign exchanges because Bitcoin is not a corporation. There is no known balance \\nsheets, at least at the moment, to review before making decision to invest in Bitcoin, “stablecoins” \\nor alternative DeFi assets. Hence, the volatility of Bitcoin is influenced by factors such as the \\nsupply-demand for Bitcoin, as much as spillover of alternative cryptocurrencies. As noted by \\nGuizani and Nafti (2019 ), the excessive fluctuation in Bitcoin price is occasioned by increase',\n",
       " 'supply-demand for Bitcoin, as much as spillover of alternative cryptocurrencies. As noted by \\nGuizani and Nafti (2019 ), the excessive fluctuation in Bitcoin price is occasioned by increase \\ndemand, short-term noises, news shock, sophisticated traders trend chasers), naïve traders, and \\nspeculators. Some empirical evidence attributed the fluctuation in BTC price to simply supply- \\ndemand fundamentals, its returns (Dufour & Engle, 2000 ; Jain & Jiang, 2014 ; Julio, 2017 ; Guizani & \\nNafti, 2019 ) and information search on Bitcoin (Kjærland et al., 2018 ).\\nIn this paper, we attempt to respond to the pertinent issue on “what explains erratic swings in BTC \\nprice?” We provide more insights to this incessant debates by dichotomizing the drivers of Bitcoin',\n",
       " 'In this paper, we attempt to respond to the pertinent issue on “what explains erratic swings in BTC \\nprice?” We provide more insights to this incessant debates by dichotomizing the drivers of Bitcoin \\nprice volatility into market “fundamentals” and “information demand”. The paper advance literature \\nin empirical finance by analyzing within the framework of dynamic modelling that market forces such \\nas price, volume and network search for the word “bitcoin” are the factors that explains the volatility \\nGbadebo et al., Cogent Business & Management (2021), 8: 1984624                                                                                                                                 \\nhttps://doi.org/10.1080/23311975.2021.1984624',\n",
       " 'https://doi.org/10.1080/23311975.2021.1984624\\nPage 2 of 21in the price of Bitcoin. The rest of the study is organized such that sections 2, 3, 4, 5, and 6, \\nrespectively, present the BTC price trends, empirical review, methodology, results and conclusions.\\n2.BTC price trends\\nThe BTC price has sporadically increase and associated with high volatility. In 2009, BTC trades for \\nalmost nothing as there was no exchange for the coin. In 6 February 2010 the first official Bitcoin \\nExchange was launched. As reported (Bitcoinwiki, 2014 ) in March 2010, a user could not sell \\n10,000BTCs auction for $50. On 22 May 2010 Bitcoin was first sold online at $0.0025—an historic \\npurchase of Domino’s pizza for 10,000BTCs at $25. By July 12, the price increased to $0.008, and',\n",
       " '10,000BTCs auction for $50. On 22 May 2010 Bitcoin was first sold online at $0.0025—an historic \\npurchase of Domino’s pizza for 10,000BTCs at $25. By July 12, the price increased to $0.008, and \\nlater rose 1000% from $0.008 to $0.08 by July 17. In January 2011, the price rose to $0.30, and \\nbecame par with the US dollar in February. The price rose to $31.50 on June 8, and declined to \\n$11.00 in July and $5.27 at the end of December, 2011.\\nIn 2012, the price which started at $5.27 grew to $7.38 by January 9, crashed later to $3.80, and \\nconsolidated around $13.30 gaining about 154% in December. In March 2013 the first Bitcoin \\nregulation was issued by the US Financial Crimes Enforcement Network (FinCEN) as guidelines for',\n",
       " 'consolidated around $13.30 gaining about 154% in December. In March 2013 the first Bitcoin \\nregulation was issued by the US Financial Crimes Enforcement Network (FinCEN) as guidelines for \\npersons administering or exchanging Bitcoin. Within few weeks, the BTC market capitalisation \\nreached $1bn and Bitcoin moves above $500. BTC hits $770 in January 2014 but fell to $314 at \\nDecember, 2014 and to $434 at end of 2015.\\nIn 2016, the price spiked to $998, and experience spectacular increase up to $2800 in August, \\n2017. The price protruded over 1350% to a peak of $19,783.06 on 17 December 2017, making \\nsome institutional investors like the US Chicago Board Options Exchange] to launched Bitcoin \\nfutures and began to offered daily contracts on Bitcoins futures. The unprecedented spike',\n",
       " 'some institutional investors like the US Chicago Board Options Exchange] to launched Bitcoin \\nfutures and began to offered daily contracts on Bitcoins futures. The unprecedented spike \\ndecreased about 45% to begin at $13,412.44 on 1 January 2018. By October 31, bitcoin price \\nhas declined to $6,300. The price could not hold on the $6,000 rally during a low volatility era, \\nhence fall to $4,000 in November. The BTC price steadily rose to $8721 by May 29 and later to \\n$12,500 in July. In 2019, BTC price which started with $3700 steadily rose and stood at $7200 by \\nDecember 31. The increase and volatility continues and by November 2020, as reported (CME \\nGroup, 2021 ; Finance.yahoo.com, 2021 ; Reuter Staff, 2017 ), the price rallied above $18,000 gaining \\nall losses from previous peak.',\n",
       " 'Group, 2021 ; Finance.yahoo.com, 2021 ; Reuter Staff, 2017 ), the price rallied above $18,000 gaining \\nall losses from previous peak.\\nSince mid-2020, the role of information tweet in influencing the price of bitcoin price has been \\nmore pronounced. The September’s announcement by Canton of Zug (Switzerland) to accept tax \\npayments and Elon Musk’s tweet to accept bitcoin for Tesla’s car purchase caused bitcoin price to \\nskyrocket beyond previous 2017 peak (Browne, 2021 ). Tesla’s purchase of bitcoins of USD \\n$1.5 billion and announced plans to accept BTC for vehicle payment on 8 February 2021 pushed \\nthe bitcoin price to $44,141 (Li, 2021 ). Bitcoin worth over $62,000 USD in both February 2021 and \\nApril 2021 due to events and information which involve Tesla and Coinbase announcements. In',\n",
       " 'the bitcoin price to $44,141 (Li, 2021 ). Bitcoin worth over $62,000 USD in both February 2021 and \\nApril 2021 due to events and information which involve Tesla and Coinbase announcements. In \\nsame period, the Bitcoin market capitalisation reached its all-time high of over $1 trillion, and had \\nsince decline roughly around $600 billion in June 2021. At the moment, the price has \\nrevolved around $40,000.00 in late July, 2021.\\nFigure A1(a–f) represents plots for the observed daily Bitcoin price (01\\\\0115–11\\\\01\\\\21), and for \\ntwo different episodes (01\\\\0115–30\\\\06\\\\19) and (01\\\\0719–11\\\\01\\\\2021), as well as, for the first \\ndifference and for log daily price and log-difference price. The plots show that the price follows',\n",
       " 'two different episodes (01\\\\0115–30\\\\06\\\\19) and (01\\\\0719–11\\\\01\\\\2021), as well as, for the first \\ndifference and for log daily price and log-difference price. The plots show that the price follows \\na nonlinear pattern. Bitcoin volatility reached about 8% in a 90 days span between October 2017 \\nand January of 2018. This is twice its volatility in a 28-day period from 17 December 2019 to \\n13 January 2020.\\n3.Empirical review\\nMost empirical literature on Bitcoin focus on: BTC price formation, relationship between BTC and \\nfinancial market assets, BTC as speculative bubbles, BTC shares in cryptocurrency market with \\nalternative crypto-asset, BTC time-of-day periodicities of trading, and the estimation of BTC price',\n",
       " 'financial market assets, BTC as speculative bubbles, BTC shares in cryptocurrency market with \\nalternative crypto-asset, BTC time-of-day periodicities of trading, and the estimation of BTC price \\nGbadebo et al., Cogent Business & Management (2021), 8: 1984624                                                                                                                                 \\nhttps://doi.org/10.1080/23311975.2021.1984624                                                                                                                                                       \\nPage 3 of 21volatility. Some papers discuss factors that drive BTC price as macroeconomic and financial \\ndevelopment (Pyo & Lee, 2020 ); technology (Kjærland et al., 2018 ; Li & Wang, 2017 ) and the',\n",
       " 'Page 3 of 21volatility. Some papers discuss factors that drive BTC price as macroeconomic and financial \\ndevelopment (Pyo & Lee, 2020 ); technology (Kjærland et al., 2018 ; Li & Wang, 2017 ) and the \\nmarket efficiency (Nadarajah & Chu, 2017 ).\\nOn relation with traditional assets, some studies (Bouri et al., 2018 ; Kurka, 2019 ; Smales, 2019 ) \\nclaim BTC holdings doe not serve as a safe haven for global assets, while Bouoiyour and Selmi \\n(2015 ) support that BTC serves as a safe haven, and hedges for oil price fluctuation. Matkovskyy \\nand Jalan (2019 ) argued that during financial crisis, risk-averse investors avoid Bitcoins as it is \\nconsidered riskier than other assets. Ji et al. (2019 ) argued that the attractiveness of Bitcoin is',\n",
       " 'considered riskier than other assets. Ji et al. (2019 ) argued that the attractiveness of Bitcoin is \\na major determinant of other cryptocurrencies. Some authors (Baur et al., 2018 ; Cheah & Fry, 2015 ; \\nCorbet et al., 2018 ) claimed that BTC is a speculative bubbles as its fundamental value cannot be \\nestimated or is equal to zero. Goutte et al. (2019 ) and Jeon et al. (2020 ) provided a survey on the \\nmechanisms of BTC exchange and crypto-finance, while Troster et al. (2018 ) analysed the implica -\\ntions of volatility for the BTC market. Some studies (Acharya et al., 2018 ; Baur et al., 2019 ; Eross \\net al., 2019 ; Koopman et al., 2005 ; O’Hara, 2015 ) focused on time-of-day periodicities of trading in',\n",
       " 'et al., 2019 ; Koopman et al., 2005 ; O’Hara, 2015 ) focused on time-of-day periodicities of trading in \\nExchanges. Urquhart (2018 ) focused on the examination of price clustering, while some studies \\n(Hung et al., 2020 ; Troster et al., 2018 ) focused on the estimation of volatility models.\\nAvailable evidence (Aalborg et al., 2018 ; Cebrián-H & Jiménez-Rodríguez, 2021 ; Guizani & Nafti, \\n2019 ; Ji et al., 2019 ; Kjærland et al., 2018 ; Liang et al., 2020 ; Poyser, 2017 ; Wijk, 2013 ) discuss the \\ndeterminants of BTC price (BTCV) volatility. Wijk (2013 ) analysed the impact of macroeconomic- \\nand financial development factors on BTCV. He checks the impact of exchange rates, oil price and \\nmarket indices as Equity index, Dow-Jones index and Nikkei index on price volatility. The results',\n",
       " 'and financial development factors on BTCV. He checks the impact of exchange rates, oil price and \\nmarket indices as Equity index, Dow-Jones index and Nikkei index on price volatility. The results \\nshows negative effects for oil price and Nikkei index, but positive effects both Equity index and DJ \\nindex on BTC price variability.\\nPoyser (2017 ) applied the Bayesian structural approach to analyse the effect of investor’s \\nsentiments, gold, and stock index on BTC price volatility. The results showed that the volatility \\nrelates positively with USD/Euro rate, stock index and difference among countries’ search trends, \\nwhile negatively associated with gold price, investor’s sentiment and Yuan/USD rate. Yechen et al.',\n",
       " 'relates positively with USD/Euro rate, stock index and difference among countries’ search trends, \\nwhile negatively associated with gold price, investor’s sentiment and Yuan/USD rate. Yechen et al. \\n(2017 ) applied a Vector error correction on monthly data to explain how BTC price volatility \\ndepends on custom price index, US dollar index, Dow jones index, Federal funds rate and gold \\nprice. They found that all variables have a long-term influence. Trade volume has positive effect on \\nBTC volatility price. The US dollar index is the biggest influencer, while gold is the least.\\nKjærland et al. (2018 ) applied the Autoregressive Distributed Lag (ARDL) model and generalized \\nautoregressive conditional heteroscedasticity (GARCH) approach to examine BTC price volatility.',\n",
       " 'Kjærland et al. (2018 ) applied the Autoregressive Distributed Lag (ARDL) model and generalized \\nautoregressive conditional heteroscedasticity (GARCH) approach to examine BTC price volatility. \\nThey identified that technological factor “Hashrate” is immaterial in modelling BTC price dynamics, \\nand verify the effect of Google searches, returns on S&P 500, volatility (VIX) index, oil price, gold \\nprice and BTC transaction volume on BTC prices. The Google searches and returns on S&P 500 have \\npositive and significant effect on BTC price volatility, while VIX, oil, gold, and volume to be \\ninsignificant. Aalborg et al. (2018 ) analysed the effect of transaction volume, VIX index and \\nGoogle searches for “Bitcoin” on the prediction of volatility of BTC price. They applied realized',\n",
       " 'insignificant. Aalborg et al. (2018 ) analysed the effect of transaction volume, VIX index and \\nGoogle searches for “Bitcoin” on the prediction of volatility of BTC price. They applied realized \\nvolatility computed from high-frequency data and found that the autoregressive model is suitable \\nfor BTC volatility. The trading volume variable shows a positive effect on the volatility model.\\nJi et al. (2019 ) explained the system of BTC exchanges relative to their common dynamics. They \\nconsidered the connectedness measures based on the daily realised volatility of BTC price. They \\nhypothesized that the positions of specific exchanges within the cryptocurrency network connect -\\nedness seems to be driven by individual’s exchange’s unique characteristics. The paper employed',\n",
       " 'hypothesized that the positions of specific exchanges within the cryptocurrency network connect -\\nedness seems to be driven by individual’s exchange’s unique characteristics. The paper employed \\nhigh-frequency data that results reveal that while Binance exchange ranks is weak, the exchange \\n“Coinbase” leads the crypto market. The paper concluded that asset withdrawal explains more of \\nthe price volatility amongst individual exchanges than the trade volume.\\nGbadebo et al., Cogent Business & Management (2021), 8: 1984624                                                                                                                                 \\nhttps://doi.org/10.1080/23311975.2021.1984624',\n",
       " 'https://doi.org/10.1080/23311975.2021.1984624\\nPage 4 of 21Guizani and Nafti (2019 ) explain the reason for excessive BTC price volatility. The paper employs \\nthe ARDL and the Granger causality on daily time series to dynamically explain how number of BTC \\naddresses, attractiveness indicator, mining difficulty, transaction volume, stock and EUR/USD rate, \\nmacroeconomic and financial development affect Bitcoin price volatility. The result suggests that \\nthe number of addresses and the mining difficulty have a significant impact on the BTC price \\nvolatility. The stock, the exchange rate, transaction volume and the macroeconomic and financial \\ndevelopment do not determine the price of the BTC in the short- and long term.',\n",
       " 'volatility. The stock, the exchange rate, transaction volume and the macroeconomic and financial \\ndevelopment do not determine the price of the BTC in the short- and long term.\\nLiang et al. (2020 ) applied GARCH-MIDAS model to analyse the impact of VIX, Google Trends, and \\nGPR on bitcoin price and provide strong evidence that Google Trends exhibits strongest predict -\\nability for Bitcoin volatility over other competing predictors. Cebrián-H and Jiménez-Rodríguez \\n(2021 ) applied GARCH and multivariate GARCH (MGARCH) between 1 January 2011 and \\n31 December 2018 to consider the role of Gold, Brent oil, exchange rates, S&P500, Nikkei 225, \\nVISA and MasterCard transaction, Riot Blockchain, Nvidia on bitcoin prices. He discovered that',\n",
       " '31 December 2018 to consider the role of Gold, Brent oil, exchange rates, S&P500, Nikkei 225, \\nVISA and MasterCard transaction, Riot Blockchain, Nvidia on bitcoin prices. He discovered that \\nthere exist conditional correlation between the volatility of VISA, MasterCard, Riot Blockchain, \\nNvidia and Bitcoin, but not with the traditional assets as oil and gold.\\n4.Data and methodology\\n4.1. The data\\nThe data for this study are obtained from four sources: www.Google.trends.com , www.bitcoincharts. \\ncom ; www.nasdaq.com ; and www.Blockchain.com . In line with some studies (Aalborg et al., 2018 ; Ji \\net al., 2019 ; Kjærland et al., 2018 ; Yechen et al., 2017 ), we applied monthly data between 2013M6 and',\n",
       " 'et al., 2019 ; Kjærland et al., 2018 ; Yechen et al., 2017 ), we applied monthly data between 2013M6 and \\n2021M6. The bitcoin price adopted is the simple unweighted average of monthly closing price. We \\nfocused on the periods for which the volume of bitcoin transaction was considerably increased \\n(Kjærland et al., 2018 ), and the digital coin has gained attractions. Prior to June 2013, the attraction \\nand transactions volume of bitcoin were relatively low (Guizani & Nafti, 2019 ).\\nUnlike some studies (Dwyer, 2015 ; Kjærland et al., 2018 ; Wang et al., 2019 ) that considered \\nblockchain technology factor such as “Hash Rates” as determinant of bitcoin prices volatility, we \\nfocus solely on the effects of markets fundamental and information demand for the cryptocur -',\n",
       " 'blockchain technology factor such as “Hash Rates” as determinant of bitcoin prices volatility, we \\nfocus solely on the effects of markets fundamental and information demand for the cryptocur -\\nrency. In sum, we employ Bitcoin price, Transaction volume, World market equity index, \\nCryptocurrency market capitalization, Information demands and the Bitcoin price volatility. The \\nvariables are in log form in accordance with analogous Bitcoin study by Pyo and Lee (2020 ). The \\nlogarithmic transformations are done to ensure that the cointegration relationship is preserved \\nwhile the heteroscedasticity is eliminated series. We discuss each variable in details.\\n4.1.1. Market fundamentals \\nThe supply and demand for Bitcoin, like other assets in the financial market and foreign exchange',\n",
       " '4.1.1. Market fundamentals \\nThe supply and demand for Bitcoin, like other assets in the financial market and foreign exchange \\nmarket are the two main market fundamentals of price formations. Li and Wang (2017 ) notes that \\nthe demand indicator for BTCs have greater implication for its fluctuation than its reserves fixed \\nsupply. We follow some theoretical models on a positive relation between price volatility and \\ntrading volume in the financial markets. The common ones amongst these models are “mixture of \\ndistributions” models. Taylor (2017 ), “asymmetric information” models and “differences in opi-\\nnion” models. According to the “asymmetric information” models, investors submit trades based',\n",
       " 'distributions” models. Taylor (2017 ), “asymmetric information” models and “differences in opi-\\nnion” models. According to the “asymmetric information” models, investors submit trades based \\non available private information. As noted by Bian, Chan and Selgin (2015 ) as informed investors \\nincrease trade volume, volatility increases due to information generated. The literature on the \\n“differences in opinion” approach propound that relatively homogeneous beliefs drives excess \\nprice-volatility and excess volume, in relation to a more stable value of the asset.\\nUnlike asymmetric information, the proponents of the approach establishe that volatility-volume \\nconnection depends on who generates the volume, and why they are trading. Informed traders',\n",
       " 'Unlike asymmetric information, the proponents of the approach establishe that volatility-volume \\nconnection depends on who generates the volume, and why they are trading. Informed traders \\ntend to buy and sell within a relatively stable range of prices about the equilibrium value. Bian \\nfound that a positive volatility-volume relation is driven by the public investors in the futures \\nGbadebo et al., Cogent Business & Management (2021), 8: 1984624                                                                                                                                 \\nhttps://doi.org/10.1080/23311975.2021.1984624',\n",
       " 'https://doi.org/10.1080/23311975.2021.1984624                                                                                                                                                       \\nPage 5 of 21markets for assets. For Bitcoin volatility-volume relation, found that the ability for investors to \\nwithdraw asset impacts more on the volatility through various Exchanges and trading volume. \\nBoth theoretical and empirical studies have focused on investigating the sources volatility-price \\nrelation and intraday price variations (Jiang et al., 2019 ). These models are based on market \\nmicrostructure that explore the mechanics of price formation and its relevance to market volatility. \\nThe model suggests that traditional volatility models can be augmented with the time-series of the',\n",
       " 'The model suggests that traditional volatility models can be augmented with the time-series of the \\ndaily price.\\nJiang et al. (2019 ) used a panel VAR estimation to examine the importance of price impact \\nresulting from the order book predicting stock volatility. They found that the price impact at the \\ndaily level is a major determinant of stock volatility dynamics. When the traditional volatility \\nmodels was augmented with the time-series of daily price impact, the volatility becomes more \\naccurately predicted at the one-day ahead forecasting horizon. The inclusion of the price variable \\nis needful as it as well helps improve the robustness of the model. Hence, as with some recent \\nnotable studies (Guizani & Nafti, 2019 ; Kjærland et al., 2018 ), we use BTC transaction volume',\n",
       " 'is needful as it as well helps improve the robustness of the model. Hence, as with some recent \\nnotable studies (Guizani & Nafti, 2019 ; Kjærland et al., 2018 ), we use BTC transaction volume \\n(TVOL) and BTC price (BTCP) as proxies for its fundamentals. We expect both BTCP and TVOL to \\nhave positive impact on Bitcoin price volatility.\\n4.1.2. Market capitalisation \\nThe market capitalization is a major factor that affects cryptocurrencies. Market capitalization is \\nobtained by multiplying the total number of Bitcoins in circulation by its own price. Lansky (2016 ) \\nconsidered the role of market capitalisation in in influencing the price of major cryptocurrencies. \\nYhlas (2018 ) applied an index of market capitalisation for 50 selected top coins. We would expect',\n",
       " 'considered the role of market capitalisation in in influencing the price of major cryptocurrencies. \\nYhlas (2018 ) applied an index of market capitalisation for 50 selected top coins. We would expect \\nthat a higher market capitalisation would provide a good chance for traders to get hands over \\nhigher profits. We use MCAP as proxies for cryptocurrencies market capitalization.\\n4.1.3. World market (equity) index \\nSome papers explain how volatility in globally asset markets transfer between markets and countries. \\nThese authors (Aalborg et al., 2018 ; Cebrián-H & Jiménez-Rodríguez, 2021 ; Guizani & Nafti, 2019 ; \\nJulio, 2017 ) incorporate financial development index or world market index—an indication of overall',\n",
       " 'Julio, 2017 ) incorporate financial development index or world market index—an indication of overall \\nglobal state of markets, which is expected to stimulate demand, hence causes increase in volatility. \\nSome studies applied the Equity index as Dow-Jones (DJ) index (Liang et al., 2020 ; Wijk, 2013 ; Yechen \\net al., 2017 ) and Nikkei 225 (Cebrián-H & Jiménez-Rodríguez, 2021 ; Poyser, 2017 ; Wijk, 2013 ), but we \\nincorporate the Morgan Stanley Capital International (MSCI)’s All Country World Index proxy as ACWI. \\nThe ACWI is a capitalization-weighted index, covering over 3,000 stocks, that measures global equity \\nperformance capturing both developed and emerging markets. We expect the ACWI to have positive \\nhigher impact on Bitcoin price volatility.\\n4.1.4. Information demands',\n",
       " 'performance capturing both developed and emerging markets. We expect the ACWI to have positive \\nhigher impact on Bitcoin price volatility.\\n4.1.4. Information demands \\nInformation shock causes BTC price to spike beyond values consistent with fundamentals within \\nminutes of disclosure. Some empirical studies (Kjærland et al., 2018 ; Li & Wang, 2017 ; Poyser, \\n2017 ) considered how BTCV is affected by social network, news and search queries. Luu and Huynh \\napplied VAR and SVAR to confirm the role of ‘bad news and moving patterns on the spillover risks \\namongst cryptocurrency markets. While Pak and Paroubek (2010 ) and Abraham et al. (2018 ) focus \\non twitter tweets as a major source of information demand, we work in line with studies (Liang',\n",
       " 'amongst cryptocurrency markets. While Pak and Paroubek (2010 ) and Abraham et al. (2018 ) focus \\non twitter tweets as a major source of information demand, we work in line with studies (Liang \\net al., 2020 ) that focus on Google search. In line with these authors, we verify how frequency of \\nqueries for the word “bitcoin” on Google-Trend explains erratic swings in its price. The Google \\nTrend reports the amount of search queries relative to the total amount of Google searches over \\ntime. This method generates values that are normalized on a scale from zero to 100.\\nWe favour the use of Google trend for two reasons. First, although both Google trend and Twitter \\ntweets show strong correlation with bitcoin prices but unlike Google trend tweets may fluctuate']"
      ]
     },
     "execution_count": 10,
     "metadata": {},
     "output_type": "execute_result"
    }
   ],
   "source": [
    "texts[:50]"
   ]
  },
  {
   "cell_type": "code",
   "execution_count": 13,
   "metadata": {},
   "outputs": [
    {
     "name": "stdout",
     "output_type": "stream",
     "text": [
      "Inserted 50 headlines.\n"
     ]
    }
   ],
   "source": [
    "astra_vector_store.add_texts(texts[:50])\n",
    "print('Inserted %i headlines.' % len(texts[:50]))\n",
    "astra_vector_index = VectorStoreIndexWrapper(vectorstore=astra_vector_store)"
   ]
  },
  {
   "cell_type": "code",
   "execution_count": 14,
   "metadata": {},
   "outputs": [],
   "source": [
    "first_question = True\n",
    "while True:\n",
    "    if first_question:\n",
    "        query_text = input(\"\\nWhat is your query? or type 'exit' to quit: \").strip()\n",
    "    else:\n",
    "        query_text = input(\"\\nWhat is your next query? or type 'exit' to quit: \").strip()\n",
    "\n",
    "    if query_text.lower() == \"exit\":\n",
    "        break  \n",
    "\n",
    "    first_question = False\n",
    "\n",
    "    print(\"\\nQuestion: \\\"%s\\\"\" % query_text) \n",
    "    answer = astra_vector_index.query(query_text, llm=llm).strip()\n",
    "    print(\"Answer: \\\"%s\\\"\\n\" % answer)\n",
    "\n",
    "    print('First Doucment by relevance')\n",
    "\n",
    "    for doc, score in astra_vector_store.similarity_search_with_score(query_text,k=4):\n",
    "        print(\"   [%0.4f] \\\"%s ... \\\"\" % (score, doc.page_content[:84]))"
   ]
  },
  {
   "cell_type": "code",
   "execution_count": null,
   "metadata": {},
   "outputs": [],
   "source": []
  }
 ],
 "metadata": {
  "kernelspec": {
   "display_name": "venv",
   "language": "python",
   "name": "python3"
  },
  "language_info": {
   "codemirror_mode": {
    "name": "ipython",
    "version": 3
   },
   "file_extension": ".py",
   "mimetype": "text/x-python",
   "name": "python",
   "nbconvert_exporter": "python",
   "pygments_lexer": "ipython3",
   "version": "3.11.0"
  }
 },
 "nbformat": 4,
 "nbformat_minor": 2
}
