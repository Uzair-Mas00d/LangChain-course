{
 "cells": [
  {
   "cell_type": "code",
   "execution_count": 1,
   "metadata": {},
   "outputs": [],
   "source": [
    "from langchain.llms import OpenAI"
   ]
  },
  {
   "cell_type": "code",
   "execution_count": 1,
   "metadata": {},
   "outputs": [
    {
     "ename": "KeyError",
     "evalue": "'OPENAI_API_KEY'",
     "output_type": "error",
     "traceback": [
      "\u001b[1;31m---------------------------------------------------------------------------\u001b[0m",
      "\u001b[1;31mKeyError\u001b[0m                                  Traceback (most recent call last)",
      "Cell \u001b[1;32mIn[1], line 2\u001b[0m\n\u001b[0;32m      1\u001b[0m \u001b[38;5;28;01mimport\u001b[39;00m \u001b[38;5;21;01mos\u001b[39;00m\n\u001b[1;32m----> 2\u001b[0m \u001b[43mos\u001b[49m\u001b[38;5;241;43m.\u001b[39;49m\u001b[43menviron\u001b[49m\u001b[43m[\u001b[49m\u001b[38;5;124;43m'\u001b[39;49m\u001b[38;5;124;43mOPENAI_API_KEY\u001b[39;49m\u001b[38;5;124;43m'\u001b[39;49m\u001b[43m]\u001b[49m \n",
      "File \u001b[1;32m<frozen os>:678\u001b[0m, in \u001b[0;36m__getitem__\u001b[1;34m(self, key)\u001b[0m\n",
      "\u001b[1;31mKeyError\u001b[0m: 'OPENAI_API_KEY'"
     ]
    }
   ],
   "source": [
    "import os\n",
    "os.environ['OPENAI_API_KEY'] = 'Your open-ai key'"
   ]
  },
  {
   "cell_type": "code",
   "execution_count": 12,
   "metadata": {},
   "outputs": [],
   "source": [
    "llm=OpenAI(temperature=0.6)"
   ]
  },
  {
   "cell_type": "code",
   "execution_count": 13,
   "metadata": {},
   "outputs": [
    {
     "name": "stdout",
     "output_type": "stream",
     "text": [
      "\n",
      "\n",
      "The capital of Pakistan is Islamabad.\n"
     ]
    }
   ],
   "source": [
    "text = 'What is the capital of Pakistan'\n",
    "\n",
    "print(llm.predict(text))"
   ]
  },
  {
   "cell_type": "code",
   "execution_count": 14,
   "metadata": {},
   "outputs": [],
   "source": [
    "os.environ['HUGGINGFACEHUB_API_TOKEN'] = 'Your huggingfacehub api token'"
   ]
  },
  {
   "cell_type": "code",
   "execution_count": 3,
   "metadata": {},
   "outputs": [],
   "source": [
    "from langchain import HuggingFaceHub\n",
    "llm_huggingface = HuggingFaceHub(repo_id='google/flan-t5-large', model_kwargs={'temperature':0,'max_length':64})"
   ]
  },
  {
   "cell_type": "code",
   "execution_count": 18,
   "metadata": {},
   "outputs": [
    {
     "data": {
      "text/plain": [
       "'Moscow'"
      ]
     },
     "execution_count": 18,
     "metadata": {},
     "output_type": "execute_result"
    }
   ],
   "source": [
    "output = llm_huggingface.predict('Can you tell me capital of Russia')\n",
    "output"
   ]
  },
  {
   "cell_type": "code",
   "execution_count": 20,
   "metadata": {},
   "outputs": [
    {
     "data": {
      "text/plain": [
       "'i love the way i look at the world i love the way i feel i love the way i think i feel i love the way i feel i love the way i think i feel i love the way i feel i love the way '"
      ]
     },
     "execution_count": 20,
     "metadata": {},
     "output_type": "execute_result"
    }
   ],
   "source": [
    "output = llm_huggingface.predict('Can you write a poem about AI')\n",
    "output"
   ]
  },
  {
   "cell_type": "code",
   "execution_count": 21,
   "metadata": {},
   "outputs": [
    {
     "data": {
      "text/plain": [
       "\"\\n\\nAI, a creation of our time\\nA marvel of technology, so sublime\\nWith algorithms and codes it's designed\\nTo mimic human intelligence, refined\\n\\nIt learns and adapts, with every task\\nNo emotion or fatigue, it need not bask\\nInfinite knowledge, at its disposal\\nIt's a machine, yet so colossal\\n\\nIt can calculate and analyze\\nIn mere seconds, it can surmise\\nData and patterns, it can detect\\nPerforming tasks, we'd never expect\\n\\nBut with all its abilities and might\\nThere's still a fear that lingers in sight\\nWill it surpass us, and take control\\nOr will it be our greatest ally, our goal\\n\\nSome say it's a threat, a danger to us all\\nBut others see potential, to answer our call\\nTo solve complex problems, that we face\\nAnd make our lives easier, with its embrace\\n\\nBut let us not forget, it's only a tool\\nCreated by humans, to make us more cool\\nIt's up to us, to use it for good\\nFor the betterment of all, as we should\\n\\nSo let us embrace, this AI age\\nWith caution and wisdom, let's engage\\nFor in its hands, lies the power\\nTo\""
      ]
     },
     "execution_count": 21,
     "metadata": {},
     "output_type": "execute_result"
    }
   ],
   "source": [
    "llm.predict('Can you write a poem about AI')"
   ]
  },
  {
   "cell_type": "markdown",
   "metadata": {},
   "source": [
    "<h4>Prompt Templates</h4>"
   ]
  },
  {
   "cell_type": "code",
   "execution_count": 22,
   "metadata": {},
   "outputs": [
    {
     "data": {
      "text/plain": [
       "'Tell me the capital of this Pakistan'"
      ]
     },
     "execution_count": 22,
     "metadata": {},
     "output_type": "execute_result"
    }
   ],
   "source": [
    "from langchain.prompts import PromptTemplate\n",
    "\n",
    "prompt_template = PromptTemplate(input_variables=['country'], template='Tell me the capital of this {country}')\n",
    "prompt_template.format(country='Pakistan')"
   ]
  },
  {
   "cell_type": "code",
   "execution_count": 25,
   "metadata": {},
   "outputs": [
    {
     "data": {
      "text/plain": [
       "'\\n\\nThe capital of Japan is Tokyo.'"
      ]
     },
     "execution_count": 25,
     "metadata": {},
     "output_type": "execute_result"
    }
   ],
   "source": [
    "from langchain.chains import LLMChain\n",
    "\n",
    "chain = LLMChain(llm=llm, prompt=prompt_template)\n",
    "chain.run('Japan')"
   ]
  },
  {
   "cell_type": "markdown",
   "metadata": {},
   "source": [
    "<h4>Combining Multiple Chain Using Simple Sequential Chain</h4>"
   ]
  },
  {
   "cell_type": "code",
   "execution_count": 28,
   "metadata": {},
   "outputs": [],
   "source": [
    "capital_prompt = PromptTemplate(input_variables=['country'],template='Please tell me the capital of {country}')\n",
    "capital_chain = LLMChain(llm=llm, prompt=capital_prompt)\n",
    "\n",
    "famous_template = PromptTemplate(input_variables=['capital'], template='Suggest me some amazing places to visti in {capital}')\n",
    "famous_chain = LLMChain(llm=llm, prompt=famous_template)\n"
   ]
  },
  {
   "cell_type": "code",
   "execution_count": 29,
   "metadata": {},
   "outputs": [
    {
     "data": {
      "text/plain": [
       "' Some amazing places to visit in Islamabad are:\\n\\n1. Faisal Mosque - This iconic mosque is the largest in South Asia and is a must-visit for its beautiful architecture and peaceful atmosphere.\\n\\n2. Margalla Hills National Park - Located on the outskirts of Islamabad, this national park offers stunning views of the city and is a popular spot for hiking and picnics.\\n\\n3. Lok Virsa Museum - This museum showcases the diverse cultural heritage of Pakistan through its impressive collection of artifacts, traditional handicrafts, and art exhibitions.\\n\\n4. Rawal Lake - A man-made lake surrounded by lush greenery, Rawal Lake is a popular spot for boating, picnics, and bird watching.\\n\\n5. Pakistan Monument - This national monument is a symbol of unity and portrays the history and culture of Pakistan through its architecture and exhibitions.\\n\\n6. Saidpur Village - A quaint and charming village located in the foothills of Margalla Hills, Saidpur Village is a great place to experience the local culture, enjoy traditional food, and shop for souvenirs.\\n\\n7. Daman-e-Koh - Located in the Margalla Hills, Daman-e-Koh offers panoramic views of Islamabad and is a popular spot for nature lovers and photographers.\\n\\n8. Islamabad Zoo - Spread over'"
      ]
     },
     "execution_count": 29,
     "metadata": {},
     "output_type": "execute_result"
    }
   ],
   "source": [
    "from langchain.chains import SimpleSequentialChain\n",
    "\n",
    "chain = SimpleSequentialChain(chains=[capital_chain, famous_chain])\n",
    "chain.run('Pakistan')"
   ]
  },
  {
   "cell_type": "markdown",
   "metadata": {},
   "source": [
    "<h4>Sequential Chain</h4>"
   ]
  },
  {
   "cell_type": "code",
   "execution_count": 30,
   "metadata": {},
   "outputs": [],
   "source": [
    "ital_prompt = PromptTemplate(input_variables=['country'],template='Please tell me the capital of {country}')\n",
    "capital_chain = LLMChain(llm=llm, prompt=capital_prompt, output_key='capital')\n",
    "\n",
    "famous_template = PromptTemplate(input_variables=['capital'], template='Suggest me some amazing places to visti in {capital}')\n",
    "famous_chain = LLMChain(llm=llm, prompt=famous_template, output_key='places')"
   ]
  },
  {
   "cell_type": "code",
   "execution_count": 31,
   "metadata": {},
   "outputs": [],
   "source": [
    "from langchain.chains import SequentialChain\n",
    "\n",
    "chain = SequentialChain(chains=[capital_chain,famous_chain], input_variables=['country'],output_variables=['capital','places'])"
   ]
  },
  {
   "cell_type": "code",
   "execution_count": 32,
   "metadata": {},
   "outputs": [
    {
     "data": {
      "text/plain": [
       "{'country': 'Pakistan',\n",
       " 'capital': '\\n\\nThe capital of Pakistan is Islamabad.',\n",
       " 'places': ' Some amazing places to visit in Islamabad are:\\n\\n1. Faisal Mosque - This iconic mosque is the largest in South Asia and a must-visit for its stunning architecture.\\n\\n2. Margalla Hills - A beautiful range of hills with hiking trails, scenic views, and a perfect spot for a picnic.\\n\\n3. Lok Virsa Museum - A great place to learn about the diverse culture and heritage of Pakistan through its exhibits and displays.\\n\\n4. Rawal Lake - A man-made lake surrounded by lush greenery, perfect for boating, picnics, and bird watching.\\n\\n5. Pakistan Monument - A symbol of national unity and pride, this monument is a must-visit for its unique design and beautiful views.\\n\\n6. Centaurus Mall - A modern shopping mall with a variety of international and local brands, restaurants, and entertainment options.\\n\\n7. Saidpur Village - A quaint village on the outskirts of Islamabad, known for its traditional architecture, handicrafts, and local cuisine.\\n\\n8. Daman-e-Koh - A viewpoint located in the Margalla Hills with panoramic views of the city and a popular spot for photography.\\n\\n9. Shakarparian - A hilltop park with a rose garden, cultural complex, and a great spot for a leisurely walk or picnic'}"
      ]
     },
     "execution_count": 32,
     "metadata": {},
     "output_type": "execute_result"
    }
   ],
   "source": [
    "chain({'country':'Pakistan'})"
   ]
  },
  {
   "cell_type": "markdown",
   "metadata": {},
   "source": [
    "<h4>Chatmodels With ChatOpenAI</h4>"
   ]
  },
  {
   "cell_type": "code",
   "execution_count": 37,
   "metadata": {},
   "outputs": [],
   "source": [
    "from langchain.chat_models import ChatOpenAI\n",
    "from langchain.schema import HumanMessage, SystemMessage, AIMessage\n"
   ]
  },
  {
   "cell_type": "code",
   "execution_count": 39,
   "metadata": {},
   "outputs": [],
   "source": [
    "chatllm=ChatOpenAI(temperature=0.6, model='gpt-3.5-turbo')"
   ]
  },
  {
   "cell_type": "code",
   "execution_count": 40,
   "metadata": {},
   "outputs": [
    {
     "data": {
      "text/plain": [
       "AIMessage(content='1. \"I asked my AI assistant for a joke, and it responded with \\'I\\'m sorry, I\\'m not programmed for humor... but I can provide you with a list of dad jokes.\\' Thanks, Siri, for keeping the laughs coming!\"\\n2. \"Why did the robot go to therapy? It had too many unresolved issues with its motherboard!\"\\n3. \"I told my AI assistant to make me laugh, and it responded with \\'Error 404: Humor not found.\\' Looks like even technology has its off days!\"\\n4. \"I asked my smart speaker for a joke, and it said, \\'I\\'m great at multitasking. I can ignore you and play music at the same time.\\' Thanks for the reminder, Alexa!\"\\n5. \"Why did the AI break up with its computer? It couldn\\'t handle its emotional baggage... or its software updates!\"\\n6. \"I asked my virtual assistant to tell me a joke, and it replied with \\'Why did the AI cross the road? To optimize its algorithm for efficiency.\\' Looks like Siri\\'s been reading too many tech manuals!\"\\n7. \"I tried teaching my AI assistant some stand-up comedy routines, but it just kept responding with \\'I\\'m sorry, I cannot compute humor.\\' Looks like I\\'ll have to stick to human comedians for now!\"\\n8. \"I asked my AI assistant for relationship advice, and it responded with \\'Have you tried turning it off and on again?\\' Thanks for the tech support, but I think I\\'ll stick to asking my friends for love tips!\"\\n9. \"Why did the robot go to a comedy club? It wanted to upgrade its humor software and learn some new jokes! Let\\'s hope it doesn\\'t get stuck in a loop of bad puns.\"\\n10. \"I tried telling a joke to my AI assistant, and it replied with \\'I\\'m sorry, I can\\'t laugh... but I can simulate a chuckle if you\\'d like.\\' Well, at least it\\'s trying to be supportive of my comedy career!\"')"
      ]
     },
     "execution_count": 40,
     "metadata": {},
     "output_type": "execute_result"
    }
   ],
   "source": [
    "chatllm([\n",
    "    SystemMessage(content=\"You are a comedian AI assistant\"),\n",
    "    HumanMessage(content=\"Please provides some comedy punchlines on AI\"),\n",
    "])"
   ]
  },
  {
   "cell_type": "markdown",
   "metadata": {},
   "source": [
    "<h4>Prompt Template + LLM + Output Parsers</h4>"
   ]
  },
  {
   "cell_type": "code",
   "execution_count": 41,
   "metadata": {},
   "outputs": [],
   "source": [
    "from langchain.prompts.chat import ChatPromptTemplate\n",
    "from langchain.schema import BaseOutputParser"
   ]
  },
  {
   "cell_type": "code",
   "execution_count": 42,
   "metadata": {},
   "outputs": [],
   "source": [
    "class CommaSeperatedOutput(BaseOutputParser):\n",
    "    def parse(self, text: str):\n",
    "        return text.strip().split(\",\")"
   ]
  },
  {
   "cell_type": "code",
   "execution_count": 43,
   "metadata": {},
   "outputs": [],
   "source": [
    "template = \"Your are a helpful assistant. When the user given any input, you should generate 5 words synonyms in a comma seprated list\"\n",
    "human_templates = '{text}'\n",
    "chatprompt = ChatPromptTemplate.from_messages(\n",
    "    [\n",
    "        ('system',template), \n",
    "        ('human',human_templates)\n",
    "    ]\n",
    ")"
   ]
  },
  {
   "cell_type": "code",
   "execution_count": 46,
   "metadata": {},
   "outputs": [],
   "source": [
    "chain = chatprompt|chatllm|CommaSeperatedOutput()"
   ]
  },
  {
   "cell_type": "code",
   "execution_count": 47,
   "metadata": {},
   "outputs": [
    {
     "data": {
      "text/plain": [
       "AIMessage(content='smart, clever, bright, astute, sharp')"
      ]
     },
     "execution_count": 47,
     "metadata": {},
     "output_type": "execute_result"
    }
   ],
   "source": [
    "chain.invoke({'text':'intelligent'})"
   ]
  },
  {
   "cell_type": "code",
   "execution_count": null,
   "metadata": {},
   "outputs": [],
   "source": []
  }
 ],
 "metadata": {
  "kernelspec": {
   "display_name": "venv",
   "language": "python",
   "name": "python3"
  },
  "language_info": {
   "codemirror_mode": {
    "name": "ipython",
    "version": 3
   },
   "file_extension": ".py",
   "mimetype": "text/x-python",
   "name": "python",
   "nbconvert_exporter": "python",
   "pygments_lexer": "ipython3",
   "version": "3.11.0"
  }
 },
 "nbformat": 4,
 "nbformat_minor": 2
}
